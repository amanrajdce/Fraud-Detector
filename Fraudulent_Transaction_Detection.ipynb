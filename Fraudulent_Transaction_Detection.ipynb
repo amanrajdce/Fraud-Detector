{
 "cells": [
  {
   "cell_type": "markdown",
   "metadata": {},
   "source": [
    "### Dataset\n",
    "\n",
    "In order to execute the ipynb file below, please download the dataset from https://www.kaggle.com/ntnu-testimon/paysim1/version/2, unzip it and place it in paysim1 folder with file name as \"dataset.csv\""
   ]
  },
  {
   "cell_type": "markdown",
   "metadata": {},
   "source": [
    "### Import required libraries"
   ]
  },
  {
   "cell_type": "code",
   "execution_count": 1,
   "metadata": {},
   "outputs": [],
   "source": [
    "import pandas as pd\n",
    "import numpy as np\n",
    "\n",
    "%matplotlib inline\n",
    "import matplotlib.cm as cm\n",
    "import matplotlib.pyplot as plt\n",
    "import matplotlib.lines as mlines\n",
    "from matplotlib.backends.backend_pdf import PdfPages\n",
    "\n",
    "from mpl_toolkits.mplot3d import Axes3D\n",
    "import seaborn as sns\n",
    "\n",
    "from sklearn.model_selection import train_test_split, learning_curve\n",
    "from sklearn.metrics import average_precision_score, confusion_matrix, classification_report\n",
    "\n",
    "from xgboost.sklearn import XGBClassifier\n",
    "from sklearn.linear_model import LogisticRegressionCV\n",
    "from sklearn.dummy import DummyClassifier\n",
    "from sklearn.naive_bayes import GaussianNB\n",
    "from sklearn.ensemble import RandomForestClassifier\n",
    "from sklearn.discriminant_analysis import LinearDiscriminantAnalysis\n",
    "\n",
    "from sklearn.preprocessing import StandardScaler\n",
    "from xgboost import plot_importance, to_graphviz"
   ]
  },
  {
   "cell_type": "code",
   "execution_count": 2,
   "metadata": {},
   "outputs": [],
   "source": [
    "import warnings\n",
    "warnings.filterwarnings(\"ignore\", category=DeprecationWarning)"
   ]
  },
  {
   "cell_type": "markdown",
   "metadata": {},
   "source": [
    "### Import data and correct spelling of original column headers for consistency"
   ]
  },
  {
   "cell_type": "code",
   "execution_count": 3,
   "metadata": {},
   "outputs": [
    {
     "data": {
      "text/html": [
       "<div>\n",
       "<style scoped>\n",
       "    .dataframe tbody tr th:only-of-type {\n",
       "        vertical-align: middle;\n",
       "    }\n",
       "\n",
       "    .dataframe tbody tr th {\n",
       "        vertical-align: top;\n",
       "    }\n",
       "\n",
       "    .dataframe thead th {\n",
       "        text-align: right;\n",
       "    }\n",
       "</style>\n",
       "<table border=\"1\" class=\"dataframe\">\n",
       "  <thead>\n",
       "    <tr style=\"text-align: right;\">\n",
       "      <th></th>\n",
       "      <th>step</th>\n",
       "      <th>type</th>\n",
       "      <th>amount</th>\n",
       "      <th>nameOrig</th>\n",
       "      <th>oldBalanceOrig</th>\n",
       "      <th>newBalanceOrig</th>\n",
       "      <th>nameDest</th>\n",
       "      <th>oldBalanceDest</th>\n",
       "      <th>newBalanceDest</th>\n",
       "      <th>isFraud</th>\n",
       "      <th>isFlaggedFraud</th>\n",
       "    </tr>\n",
       "  </thead>\n",
       "  <tbody>\n",
       "    <tr>\n",
       "      <th>0</th>\n",
       "      <td>1</td>\n",
       "      <td>PAYMENT</td>\n",
       "      <td>9839.64</td>\n",
       "      <td>C1231006815</td>\n",
       "      <td>170136.0</td>\n",
       "      <td>160296.36</td>\n",
       "      <td>M1979787155</td>\n",
       "      <td>0.0</td>\n",
       "      <td>0.0</td>\n",
       "      <td>0</td>\n",
       "      <td>0</td>\n",
       "    </tr>\n",
       "    <tr>\n",
       "      <th>1</th>\n",
       "      <td>1</td>\n",
       "      <td>PAYMENT</td>\n",
       "      <td>1864.28</td>\n",
       "      <td>C1666544295</td>\n",
       "      <td>21249.0</td>\n",
       "      <td>19384.72</td>\n",
       "      <td>M2044282225</td>\n",
       "      <td>0.0</td>\n",
       "      <td>0.0</td>\n",
       "      <td>0</td>\n",
       "      <td>0</td>\n",
       "    </tr>\n",
       "    <tr>\n",
       "      <th>2</th>\n",
       "      <td>1</td>\n",
       "      <td>TRANSFER</td>\n",
       "      <td>181.00</td>\n",
       "      <td>C1305486145</td>\n",
       "      <td>181.0</td>\n",
       "      <td>0.00</td>\n",
       "      <td>C553264065</td>\n",
       "      <td>0.0</td>\n",
       "      <td>0.0</td>\n",
       "      <td>1</td>\n",
       "      <td>0</td>\n",
       "    </tr>\n",
       "    <tr>\n",
       "      <th>3</th>\n",
       "      <td>1</td>\n",
       "      <td>CASH_OUT</td>\n",
       "      <td>181.00</td>\n",
       "      <td>C840083671</td>\n",
       "      <td>181.0</td>\n",
       "      <td>0.00</td>\n",
       "      <td>C38997010</td>\n",
       "      <td>21182.0</td>\n",
       "      <td>0.0</td>\n",
       "      <td>1</td>\n",
       "      <td>0</td>\n",
       "    </tr>\n",
       "    <tr>\n",
       "      <th>4</th>\n",
       "      <td>1</td>\n",
       "      <td>PAYMENT</td>\n",
       "      <td>11668.14</td>\n",
       "      <td>C2048537720</td>\n",
       "      <td>41554.0</td>\n",
       "      <td>29885.86</td>\n",
       "      <td>M1230701703</td>\n",
       "      <td>0.0</td>\n",
       "      <td>0.0</td>\n",
       "      <td>0</td>\n",
       "      <td>0</td>\n",
       "    </tr>\n",
       "  </tbody>\n",
       "</table>\n",
       "</div>"
      ],
      "text/plain": [
       "   step      type    amount     nameOrig  oldBalanceOrig  newBalanceOrig  \\\n",
       "0     1   PAYMENT   9839.64  C1231006815        170136.0       160296.36   \n",
       "1     1   PAYMENT   1864.28  C1666544295         21249.0        19384.72   \n",
       "2     1  TRANSFER    181.00  C1305486145           181.0            0.00   \n",
       "3     1  CASH_OUT    181.00   C840083671           181.0            0.00   \n",
       "4     1   PAYMENT  11668.14  C2048537720         41554.0        29885.86   \n",
       "\n",
       "      nameDest  oldBalanceDest  newBalanceDest  isFraud  isFlaggedFraud  \n",
       "0  M1979787155             0.0             0.0        0               0  \n",
       "1  M2044282225             0.0             0.0        0               0  \n",
       "2   C553264065             0.0             0.0        1               0  \n",
       "3    C38997010         21182.0             0.0        1               0  \n",
       "4  M1230701703             0.0             0.0        0               0  "
      ]
     },
     "execution_count": 3,
     "metadata": {},
     "output_type": "execute_result"
    }
   ],
   "source": [
    "df = pd.read_csv(\"paysim1/dataset.csv\")\n",
    "df = df.rename(columns={'oldbalanceOrg':'oldBalanceOrig', 'newbalanceOrig':'newBalanceOrig', \\\n",
    "                        'oldbalanceDest':'oldBalanceDest', 'newbalanceDest':'newBalanceDest'})\n",
    "df.head()"
   ]
  },
  {
   "cell_type": "markdown",
   "metadata": {},
   "source": [
    "### Test if there any missing values in DataFrame."
   ]
  },
  {
   "cell_type": "code",
   "execution_count": 4,
   "metadata": {},
   "outputs": [
    {
     "name": "stdout",
     "output_type": "stream",
     "text": [
      "False\n",
      "False\n"
     ]
    }
   ],
   "source": [
    "print(df.isna().values.any())\n",
    "print(df.isnull().values.any())"
   ]
  },
  {
   "cell_type": "markdown",
   "metadata": {},
   "source": [
    "#### It turns out there are no obvious missing values but, but missing information have proxies of numerical value 0."
   ]
  },
  {
   "cell_type": "markdown",
   "metadata": {},
   "source": [
    "### 2. Exploratory Data Analysis\n",
    "In this section, we present some insights into this dataset using Pandas Dataframe methods. More elaborate visualizations follow in subsequent sections. "
   ]
  },
  {
   "cell_type": "markdown",
   "metadata": {},
   "source": [
    "#### 2.1. Which types of transactions are fraudulent? \n",
    "As can be seen from the plot below, fraud seems to happen0 only in two type of transactions 'TRANSFER' and 'CASHOUT'. 'TRANSFER' transaction involves money being sent to a customer/fraudster and 'CASH_OUT' involves transfer of money to a merchant who then pays the customer/fraudster in cash. \n",
    "\n",
    "Another interesting observation is that the number of fraudulent TRANSFERs and the number of fraudulent CASH_OUTs are almost equal. It seems that fraud is committed by first transferring funds to another account whereby the recipient subsequently cashes it out."
   ]
  },
  {
   "cell_type": "code",
   "execution_count": 5,
   "metadata": {},
   "outputs": [
    {
     "name": "stdout",
     "output_type": "stream",
     "text": [
      "Number of fraudulent transactions with transaction type\n",
      "CASH_OUT    4116\n",
      "TRANSFER    4097\n",
      "Name: type, dtype: int64\n"
     ]
    },
    {
     "data": {
      "text/plain": [
       "<Figure size 432x288 with 0 Axes>"
      ]
     },
     "metadata": {},
     "output_type": "display_data"
    },
    {
     "data": {
      "image/png": "[encoded data removed]",
      "text/plain": [
       "<Figure size 360x360 with 1 Axes>"
      ]
     },
     "metadata": {
      "needs_background": "light"
     },
     "output_type": "display_data"
    }
   ],
   "source": [
    "print(\"Number of fraudulent transactions with transaction type\")\n",
    "print(df[df.isFraud == 1].type.value_counts())\n",
    "plt.figure()\n",
    "f, ax = plt.subplots(1, 1, figsize=(5, 5))\n",
    "df[df.isFraud == 1].type.value_counts().plot(kind='bar', title=\"Transaction type\", ax=ax, figsize=(5,5))\n",
    "ax.set_xticks([0, 1])\n",
    "ax.set_xticklabels(['CASH_OUT', 'TRANSFER'], rotation='horizontal')\n",
    "plt.show()"
   ]
  },
  {
   "cell_type": "markdown",
   "metadata": {},
   "source": [
    "#### 2.2. Correlation Plot\n",
    "We plot correlation among features to better understand the relationship between them, specially how does **isFlaggedFraud** relate to others."
   ]
  },
  {
   "cell_type": "code",
   "execution_count": 6,
   "metadata": {},
   "outputs": [
    {
     "data": {
      "image/png": "[encoded data removed]",
      "text/plain": [
       "<Figure size 432x288 with 2 Axes>"
      ]
     },
     "metadata": {
      "needs_background": "light"
     },
     "output_type": "display_data"
    }
   ],
   "source": [
    "plt.figure()\n",
    "plt.title(\"Correlation among different features\")\n",
    "sns.heatmap(df.corr(), center=0, linewidths=.1, linecolor='white', cmap=\"YlGnBu\")\n",
    "plt.show()"
   ]
  },
  {
   "cell_type": "markdown",
   "metadata": {},
   "source": [
    "As we can see from correlation matrix, **isFlaggedFraud** and **step** doesn't correlate with any feature, hence it might be safe to reject them. Let's modify the **step** feature and bin it among 24 different hours from 0 to 23. We would like to see if fraud transactions are linked to specific hour of a day."
   ]
  },
  {
   "cell_type": "code",
   "execution_count": 7,
   "metadata": {},
   "outputs": [],
   "source": [
    "df['step_bin'] = df.step.apply(lambda x: x%24)"
   ]
  },
  {
   "cell_type": "code",
   "execution_count": 8,
   "metadata": {
    "scrolled": true
   },
   "outputs": [
    {
     "data": {
      "image/png": "[encoded data removed]",
      "text/plain": [
       "<Figure size 432x288 with 2 Axes>"
      ]
     },
     "metadata": {
      "needs_background": "light"
     },
     "output_type": "display_data"
    }
   ],
   "source": [
    "plt.figure()\n",
    "plt.title(\"Correlation among different features after step binning\")\n",
    "corelation = round(df.corr(), 2)\n",
    "sns.heatmap(corelation, center=0, linewidths=.1, linecolor='white', cmap=\"YlGnBu\", annot=True)\n",
    "plt.show()"
   ]
  },
  {
   "cell_type": "markdown",
   "metadata": {},
   "source": [
    "*Conclusion:* **isFlaggedFraud** and **step** feature doesn't seem to contribute to a transaction being fraudulent or not. Also, since they don't correlate with any other feature, it seems safe to discard them from our further exploratory analysis and modelling."
   ]
  },
  {
   "cell_type": "code",
   "execution_count": 9,
   "metadata": {},
   "outputs": [
    {
     "data": {
      "text/html": [
       "<div>\n",
       "<style scoped>\n",
       "    .dataframe tbody tr th:only-of-type {\n",
       "        vertical-align: middle;\n",
       "    }\n",
       "\n",
       "    .dataframe tbody tr th {\n",
       "        vertical-align: top;\n",
       "    }\n",
       "\n",
       "    .dataframe thead th {\n",
       "        text-align: right;\n",
       "    }\n",
       "</style>\n",
       "<table border=\"1\" class=\"dataframe\">\n",
       "  <thead>\n",
       "    <tr style=\"text-align: right;\">\n",
       "      <th></th>\n",
       "      <th>step</th>\n",
       "      <th>amount</th>\n",
       "      <th>oldBalanceOrig</th>\n",
       "      <th>newBalanceOrig</th>\n",
       "      <th>oldBalanceDest</th>\n",
       "      <th>newBalanceDest</th>\n",
       "      <th>isFraud</th>\n",
       "      <th>isFlaggedFraud</th>\n",
       "      <th>step_bin</th>\n",
       "    </tr>\n",
       "  </thead>\n",
       "  <tbody>\n",
       "    <tr>\n",
       "      <th>step</th>\n",
       "      <td>1.000000</td>\n",
       "      <td>0.022373</td>\n",
       "      <td>-0.010058</td>\n",
       "      <td>-0.010299</td>\n",
       "      <td>0.027665</td>\n",
       "      <td>0.025888</td>\n",
       "      <td>0.031578</td>\n",
       "      <td>0.003277</td>\n",
       "      <td>0.061729</td>\n",
       "    </tr>\n",
       "    <tr>\n",
       "      <th>amount</th>\n",
       "      <td>0.022373</td>\n",
       "      <td>1.000000</td>\n",
       "      <td>-0.002762</td>\n",
       "      <td>-0.007861</td>\n",
       "      <td>0.294137</td>\n",
       "      <td>0.459304</td>\n",
       "      <td>0.076688</td>\n",
       "      <td>0.012295</td>\n",
       "      <td>-0.029676</td>\n",
       "    </tr>\n",
       "    <tr>\n",
       "      <th>oldBalanceOrig</th>\n",
       "      <td>-0.010058</td>\n",
       "      <td>-0.002762</td>\n",
       "      <td>1.000000</td>\n",
       "      <td>0.998803</td>\n",
       "      <td>0.066243</td>\n",
       "      <td>0.042029</td>\n",
       "      <td>0.010154</td>\n",
       "      <td>0.003835</td>\n",
       "      <td>-0.001015</td>\n",
       "    </tr>\n",
       "    <tr>\n",
       "      <th>newBalanceOrig</th>\n",
       "      <td>-0.010299</td>\n",
       "      <td>-0.007861</td>\n",
       "      <td>0.998803</td>\n",
       "      <td>1.000000</td>\n",
       "      <td>0.067812</td>\n",
       "      <td>0.041837</td>\n",
       "      <td>-0.008148</td>\n",
       "      <td>0.003776</td>\n",
       "      <td>-0.000858</td>\n",
       "    </tr>\n",
       "    <tr>\n",
       "      <th>oldBalanceDest</th>\n",
       "      <td>0.027665</td>\n",
       "      <td>0.294137</td>\n",
       "      <td>0.066243</td>\n",
       "      <td>0.067812</td>\n",
       "      <td>1.000000</td>\n",
       "      <td>0.976569</td>\n",
       "      <td>-0.005885</td>\n",
       "      <td>-0.000513</td>\n",
       "      <td>-0.001564</td>\n",
       "    </tr>\n",
       "    <tr>\n",
       "      <th>newBalanceDest</th>\n",
       "      <td>0.025888</td>\n",
       "      <td>0.459304</td>\n",
       "      <td>0.042029</td>\n",
       "      <td>0.041837</td>\n",
       "      <td>0.976569</td>\n",
       "      <td>1.000000</td>\n",
       "      <td>0.000535</td>\n",
       "      <td>-0.000529</td>\n",
       "      <td>-0.006697</td>\n",
       "    </tr>\n",
       "    <tr>\n",
       "      <th>isFraud</th>\n",
       "      <td>0.031578</td>\n",
       "      <td>0.076688</td>\n",
       "      <td>0.010154</td>\n",
       "      <td>-0.008148</td>\n",
       "      <td>-0.005885</td>\n",
       "      <td>0.000535</td>\n",
       "      <td>1.000000</td>\n",
       "      <td>0.044109</td>\n",
       "      <td>-0.031403</td>\n",
       "    </tr>\n",
       "    <tr>\n",
       "      <th>isFlaggedFraud</th>\n",
       "      <td>0.003277</td>\n",
       "      <td>0.012295</td>\n",
       "      <td>0.003835</td>\n",
       "      <td>0.003776</td>\n",
       "      <td>-0.000513</td>\n",
       "      <td>-0.000529</td>\n",
       "      <td>0.044109</td>\n",
       "      <td>1.000000</td>\n",
       "      <td>-0.000462</td>\n",
       "    </tr>\n",
       "    <tr>\n",
       "      <th>step_bin</th>\n",
       "      <td>0.061729</td>\n",
       "      <td>-0.029676</td>\n",
       "      <td>-0.001015</td>\n",
       "      <td>-0.000858</td>\n",
       "      <td>-0.001564</td>\n",
       "      <td>-0.006697</td>\n",
       "      <td>-0.031403</td>\n",
       "      <td>-0.000462</td>\n",
       "      <td>1.000000</td>\n",
       "    </tr>\n",
       "  </tbody>\n",
       "</table>\n",
       "</div>"
      ],
      "text/plain": [
       "                    step    amount  oldBalanceOrig  newBalanceOrig  \\\n",
       "step            1.000000  0.022373       -0.010058       -0.010299   \n",
       "amount          0.022373  1.000000       -0.002762       -0.007861   \n",
       "oldBalanceOrig -0.010058 -0.002762        1.000000        0.998803   \n",
       "newBalanceOrig -0.010299 -0.007861        0.998803        1.000000   \n",
       "oldBalanceDest  0.027665  0.294137        0.066243        0.067812   \n",
       "newBalanceDest  0.025888  0.459304        0.042029        0.041837   \n",
       "isFraud         0.031578  0.076688        0.010154       -0.008148   \n",
       "isFlaggedFraud  0.003277  0.012295        0.003835        0.003776   \n",
       "step_bin        0.061729 -0.029676       -0.001015       -0.000858   \n",
       "\n",
       "                oldBalanceDest  newBalanceDest   isFraud  isFlaggedFraud  \\\n",
       "step                  0.027665        0.025888  0.031578        0.003277   \n",
       "amount                0.294137        0.459304  0.076688        0.012295   \n",
       "oldBalanceOrig        0.066243        0.042029  0.010154        0.003835   \n",
       "newBalanceOrig        0.067812        0.041837 -0.008148        0.003776   \n",
       "oldBalanceDest        1.000000        0.976569 -0.005885       -0.000513   \n",
       "newBalanceDest        0.976569        1.000000  0.000535       -0.000529   \n",
       "isFraud              -0.005885        0.000535  1.000000        0.044109   \n",
       "isFlaggedFraud       -0.000513       -0.000529  0.044109        1.000000   \n",
       "step_bin             -0.001564       -0.006697 -0.031403       -0.000462   \n",
       "\n",
       "                step_bin  \n",
       "step            0.061729  \n",
       "amount         -0.029676  \n",
       "oldBalanceOrig -0.001015  \n",
       "newBalanceOrig -0.000858  \n",
       "oldBalanceDest -0.001564  \n",
       "newBalanceDest -0.006697  \n",
       "isFraud        -0.031403  \n",
       "isFlaggedFraud -0.000462  \n",
       "step_bin        1.000000  "
      ]
     },
     "execution_count": 9,
     "metadata": {},
     "output_type": "execute_result"
    }
   ],
   "source": [
    "df.corr()"
   ]
  },
  {
   "cell_type": "markdown",
   "metadata": {},
   "source": [
    "#### 2.3. Are expected merchant accounts properly labelled?"
   ]
  },
  {
   "cell_type": "markdown",
   "metadata": {},
   "source": [
    "Data Description states that CASH_OUT involves paying a merchant. However, we see for CASH_OUT transactions\n",
    "there are no merchants among the destination accounts."
   ]
  },
  {
   "cell_type": "code",
   "execution_count": 10,
   "metadata": {},
   "outputs": [
    {
     "name": "stdout",
     "output_type": "stream",
     "text": [
      "\n",
      "Are there any merchants among destination accounts for CASH_OUT transactions? False\n"
     ]
    }
   ],
   "source": [
    "print('\\nAre there any merchants among destination accounts for CASH_OUT \\\n",
    "transactions? {}'.format((df[df.type == 'CASH_OUT'].nameDest.str.contains('M')).any()))"
   ]
  },
  {
   "cell_type": "markdown",
   "metadata": {},
   "source": [
    "In fact, there are no merchants among any originator accounts. Merchants are\n",
    "only present in destination accounts for only PAYMENTS."
   ]
  },
  {
   "cell_type": "code",
   "execution_count": 11,
   "metadata": {},
   "outputs": [
    {
     "name": "stdout",
     "output_type": "stream",
     "text": [
      "\n",
      "Are there any transactions having merchants among originator accounts? False\n",
      "\n",
      "Are there any transactions having merchants among destination accounts? True \n",
      "If yes, then what are such trasactions type?\n",
      "\n",
      "PAYMENT    2151495\n",
      "Name: type, dtype: int64\n"
     ]
    }
   ],
   "source": [
    "print('\\nAre there any transactions having merchants among originator accounts? {}'.format(\n",
    "    df.nameOrig.str.contains('M').any())) \n",
    "\n",
    "print('\\nAre there any transactions having merchants among destination accounts? {} '.format(\n",
    "    df.nameDest.str.contains('M').any()))\n",
    "print('If yes, then what are such trasactions type?\\n')\n",
    "print(df[df.nameDest.str.contains('M')].type.value_counts())"
   ]
  },
  {
   "cell_type": "markdown",
   "metadata": {},
   "source": [
    "*Conclusion*: Among the account labels **nameOrig** and **nameDest**, for all transactions, the merchant prefix of 'M' occurs in an unexpected way and exist only for PAYMENTS"
   ]
  },
  {
   "cell_type": "markdown",
   "metadata": {},
   "source": [
    "#### 2.4. Are there any relation of nameOrig and  nameDest  features to fraudulent TRANSFERs and CASH_OUTs?"
   ]
  },
  {
   "cell_type": "markdown",
   "metadata": {},
   "source": [
    "#### Hypothesis 1\n",
    "From the data description and our analysis, the modus operandi for committing fraud appeared to be involving \n",
    "first making a TRANSFER to a (fraudulent) recipient who in turn cashes it out using a CASH_OUT transaction.\n",
    "\n",
    "Thus, under this hypothesis, within this two-step process, it is expected that the fraudulent account should be present as the beneficiary account in a TRANSFER and the originator account in a CASH_OUT. However, the data shows below that there are no such common accounts among fraudulent transactions. Thus, the data doesn't support our hypothesis."
   ]
  },
  {
   "cell_type": "code",
   "execution_count": 12,
   "metadata": {},
   "outputs": [
    {
     "name": "stdout",
     "output_type": "stream",
     "text": [
      "\n",
      "Within fraudulent transactions, are there destinations for TRANSFERS that \n",
      "are also originators for CASH_OUTs? False\n"
     ]
    }
   ],
   "source": [
    "dfFraudTransfer = df[(df.isFraud == 1) & (df.type == 'TRANSFER')]\n",
    "dfFraudCashout = df[(df.isFraud == 1) & (df.type == 'CASH_OUT')]\n",
    "\n",
    "print('\\nWithin fraudulent transactions, are there destinations for TRANSFERS \\\n",
    "that \\nare also originators for CASH_OUTs? {}'.format(\n",
    "    (dfFraudTransfer.nameDest.isin(dfFraudCashout.nameOrig)).any()))"
   ]
  },
  {
   "cell_type": "markdown",
   "metadata": {},
   "source": [
    "#### Hypothesis 2\n",
    "We now postulate that destination accounts for fraudulent TRANSFERs could be originator for CASHOUTs that\n",
    "are not detected as Fraud and are labeled as genuine. If this is the case, it is possible that there may be some merit in the first hypothesis."
   ]
  },
  {
   "cell_type": "code",
   "execution_count": 13,
   "metadata": {},
   "outputs": [
    {
     "name": "stdout",
     "output_type": "stream",
     "text": [
      "\n",
      "Are there any fraudulent TRANSFERs whose destination accounts are originators of \n",
      "genuine CASH_OUTs: True\n",
      "If yes, what are they?\n"
     ]
    },
    {
     "data": {
      "text/html": [
       "<div>\n",
       "<style scoped>\n",
       "    .dataframe tbody tr th:only-of-type {\n",
       "        vertical-align: middle;\n",
       "    }\n",
       "\n",
       "    .dataframe tbody tr th {\n",
       "        vertical-align: top;\n",
       "    }\n",
       "\n",
       "    .dataframe thead th {\n",
       "        text-align: right;\n",
       "    }\n",
       "</style>\n",
       "<table border=\"1\" class=\"dataframe\">\n",
       "  <thead>\n",
       "    <tr style=\"text-align: right;\">\n",
       "      <th></th>\n",
       "      <th>step</th>\n",
       "      <th>type</th>\n",
       "      <th>amount</th>\n",
       "      <th>nameOrig</th>\n",
       "      <th>oldBalanceOrig</th>\n",
       "      <th>newBalanceOrig</th>\n",
       "      <th>nameDest</th>\n",
       "      <th>oldBalanceDest</th>\n",
       "      <th>newBalanceDest</th>\n",
       "      <th>isFraud</th>\n",
       "      <th>isFlaggedFraud</th>\n",
       "      <th>step_bin</th>\n",
       "    </tr>\n",
       "  </thead>\n",
       "  <tbody>\n",
       "    <tr>\n",
       "      <th>1030443</th>\n",
       "      <td>65</td>\n",
       "      <td>TRANSFER</td>\n",
       "      <td>1282971.57</td>\n",
       "      <td>C1175896731</td>\n",
       "      <td>1282971.57</td>\n",
       "      <td>0.0</td>\n",
       "      <td>C1714931087</td>\n",
       "      <td>0.0</td>\n",
       "      <td>0.0</td>\n",
       "      <td>1</td>\n",
       "      <td>0</td>\n",
       "      <td>17</td>\n",
       "    </tr>\n",
       "    <tr>\n",
       "      <th>6039814</th>\n",
       "      <td>486</td>\n",
       "      <td>TRANSFER</td>\n",
       "      <td>214793.32</td>\n",
       "      <td>C2140495649</td>\n",
       "      <td>214793.32</td>\n",
       "      <td>0.0</td>\n",
       "      <td>C423543548</td>\n",
       "      <td>0.0</td>\n",
       "      <td>0.0</td>\n",
       "      <td>1</td>\n",
       "      <td>0</td>\n",
       "      <td>6</td>\n",
       "    </tr>\n",
       "    <tr>\n",
       "      <th>6362556</th>\n",
       "      <td>738</td>\n",
       "      <td>TRANSFER</td>\n",
       "      <td>814689.88</td>\n",
       "      <td>C2029041842</td>\n",
       "      <td>814689.88</td>\n",
       "      <td>0.0</td>\n",
       "      <td>C1023330867</td>\n",
       "      <td>0.0</td>\n",
       "      <td>0.0</td>\n",
       "      <td>1</td>\n",
       "      <td>0</td>\n",
       "      <td>18</td>\n",
       "    </tr>\n",
       "  </tbody>\n",
       "</table>\n",
       "</div>"
      ],
      "text/plain": [
       "         step      type      amount     nameOrig  oldBalanceOrig  \\\n",
       "1030443    65  TRANSFER  1282971.57  C1175896731      1282971.57   \n",
       "6039814   486  TRANSFER   214793.32  C2140495649       214793.32   \n",
       "6362556   738  TRANSFER   814689.88  C2029041842       814689.88   \n",
       "\n",
       "         newBalanceOrig     nameDest  oldBalanceDest  newBalanceDest  isFraud  \\\n",
       "1030443             0.0  C1714931087             0.0             0.0        1   \n",
       "6039814             0.0   C423543548             0.0             0.0        1   \n",
       "6362556             0.0  C1023330867             0.0             0.0        1   \n",
       "\n",
       "         isFlaggedFraud  step_bin  \n",
       "1030443               0        17  \n",
       "6039814               0         6  \n",
       "6362556               0        18  "
      ]
     },
     "execution_count": 13,
     "metadata": {},
     "output_type": "execute_result"
    }
   ],
   "source": [
    "dfNotFraudCashout = df[(df.isFraud == 0) & (df.type == 'CASH_OUT')]\n",
    "print('\\nAre there any fraudulent TRANSFERs whose destination accounts are \\\n",
    "originators of \\ngenuine CASH_OUTs: {}'.format(\n",
    "    (dfFraudTransfer.nameDest.isin(dfNotFraudCashout.nameOrig)).any()))\n",
    "print(\"If yes, what are they?\")\n",
    "dfFraudTransfer[dfFraudTransfer.nameDest.isin(dfNotFraudCashout.nameOrig)]"
   ]
  },
  {
   "cell_type": "code",
   "execution_count": 14,
   "metadata": {},
   "outputs": [
    {
     "name": "stdout",
     "output_type": "stream",
     "text": [
      "Follwing genuine CASH_OUTS have originator accounts that are destination \n",
      "accounts in fraudulent TRANSFERs\n"
     ]
    },
    {
     "data": {
      "text/html": [
       "<div>\n",
       "<style scoped>\n",
       "    .dataframe tbody tr th:only-of-type {\n",
       "        vertical-align: middle;\n",
       "    }\n",
       "\n",
       "    .dataframe tbody tr th {\n",
       "        vertical-align: top;\n",
       "    }\n",
       "\n",
       "    .dataframe thead th {\n",
       "        text-align: right;\n",
       "    }\n",
       "</style>\n",
       "<table border=\"1\" class=\"dataframe\">\n",
       "  <thead>\n",
       "    <tr style=\"text-align: right;\">\n",
       "      <th></th>\n",
       "      <th>step</th>\n",
       "      <th>type</th>\n",
       "      <th>amount</th>\n",
       "      <th>nameOrig</th>\n",
       "      <th>oldBalanceOrig</th>\n",
       "      <th>newBalanceOrig</th>\n",
       "      <th>nameDest</th>\n",
       "      <th>oldBalanceDest</th>\n",
       "      <th>newBalanceDest</th>\n",
       "      <th>isFraud</th>\n",
       "      <th>isFlaggedFraud</th>\n",
       "      <th>step_bin</th>\n",
       "    </tr>\n",
       "  </thead>\n",
       "  <tbody>\n",
       "    <tr>\n",
       "      <th>1168398</th>\n",
       "      <td>132</td>\n",
       "      <td>CASH_OUT</td>\n",
       "      <td>29084.28</td>\n",
       "      <td>C1023330867</td>\n",
       "      <td>51999.0</td>\n",
       "      <td>22914.72</td>\n",
       "      <td>C1422447255</td>\n",
       "      <td>0.00</td>\n",
       "      <td>29084.28</td>\n",
       "      <td>0</td>\n",
       "      <td>0</td>\n",
       "      <td>12</td>\n",
       "    </tr>\n",
       "    <tr>\n",
       "      <th>2186261</th>\n",
       "      <td>185</td>\n",
       "      <td>CASH_OUT</td>\n",
       "      <td>214555.85</td>\n",
       "      <td>C423543548</td>\n",
       "      <td>0.0</td>\n",
       "      <td>0.00</td>\n",
       "      <td>C1066927674</td>\n",
       "      <td>4575179.83</td>\n",
       "      <td>4789735.69</td>\n",
       "      <td>0</td>\n",
       "      <td>0</td>\n",
       "      <td>17</td>\n",
       "    </tr>\n",
       "    <tr>\n",
       "      <th>6149940</th>\n",
       "      <td>546</td>\n",
       "      <td>CASH_OUT</td>\n",
       "      <td>18091.05</td>\n",
       "      <td>C1714931087</td>\n",
       "      <td>197227.0</td>\n",
       "      <td>179135.95</td>\n",
       "      <td>C1339132632</td>\n",
       "      <td>66177.84</td>\n",
       "      <td>84268.89</td>\n",
       "      <td>0</td>\n",
       "      <td>0</td>\n",
       "      <td>18</td>\n",
       "    </tr>\n",
       "  </tbody>\n",
       "</table>\n",
       "</div>"
      ],
      "text/plain": [
       "         step      type     amount     nameOrig  oldBalanceOrig  \\\n",
       "1168398   132  CASH_OUT   29084.28  C1023330867         51999.0   \n",
       "2186261   185  CASH_OUT  214555.85   C423543548             0.0   \n",
       "6149940   546  CASH_OUT   18091.05  C1714931087        197227.0   \n",
       "\n",
       "         newBalanceOrig     nameDest  oldBalanceDest  newBalanceDest  isFraud  \\\n",
       "1168398        22914.72  C1422447255            0.00        29084.28        0   \n",
       "2186261            0.00  C1066927674      4575179.83      4789735.69        0   \n",
       "6149940       179135.95  C1339132632        66177.84        84268.89        0   \n",
       "\n",
       "         isFlaggedFraud  step_bin  \n",
       "1168398               0        12  \n",
       "2186261               0        17  \n",
       "6149940               0        18  "
      ]
     },
     "execution_count": 14,
     "metadata": {},
     "output_type": "execute_result"
    }
   ],
   "source": [
    "print(\"Follwing genuine CASH_OUTS have originator accounts that \\\n",
    "are destination \\naccounts in fraudulent TRANSFERs\")\n",
    "\n",
    "dfNotFraudCashout[dfNotFraudCashout.nameOrig.isin(dfFraudTransfer.nameDest)]"
   ]
  },
  {
   "cell_type": "markdown",
   "metadata": {},
   "source": [
    "We see above that there are 3 such transactions. Step information(which is information about time), for all 3 such transactions, genuine CASH_OUT has occured either way back before a fraudulent transaction took place or way after it. Therefore, we can conclude that **nameOrig** and **nameDest** features neither encode merchant accounts in the expected way, nor they are related to fraud modus-operandi. So, it will be safe to disregard such feature in our further explorations"
   ]
  },
  {
   "cell_type": "markdown",
   "metadata": {},
   "source": [
    "### 3. Data cleaning"
   ]
  },
  {
   "cell_type": "markdown",
   "metadata": {},
   "source": [
    "From the exploratory data analysis (EDA) of in previous section, we know that fraud only occurs in 'TRANSFER's and 'CASH_OUT's. So we assemble only the corresponding data in X\n",
    "for analysis. Also, we remove the irrelevant features found in previous explorations."
   ]
  },
  {
   "cell_type": "code",
   "execution_count": 15,
   "metadata": {},
   "outputs": [
    {
     "data": {
      "text/html": [
       "<div>\n",
       "<style scoped>\n",
       "    .dataframe tbody tr th:only-of-type {\n",
       "        vertical-align: middle;\n",
       "    }\n",
       "\n",
       "    .dataframe tbody tr th {\n",
       "        vertical-align: top;\n",
       "    }\n",
       "\n",
       "    .dataframe thead th {\n",
       "        text-align: right;\n",
       "    }\n",
       "</style>\n",
       "<table border=\"1\" class=\"dataframe\">\n",
       "  <thead>\n",
       "    <tr style=\"text-align: right;\">\n",
       "      <th></th>\n",
       "      <th>step</th>\n",
       "      <th>type</th>\n",
       "      <th>amount</th>\n",
       "      <th>oldBalanceOrig</th>\n",
       "      <th>newBalanceOrig</th>\n",
       "      <th>oldBalanceDest</th>\n",
       "      <th>newBalanceDest</th>\n",
       "      <th>isFraud</th>\n",
       "      <th>step_bin</th>\n",
       "    </tr>\n",
       "  </thead>\n",
       "  <tbody>\n",
       "    <tr>\n",
       "      <th>2</th>\n",
       "      <td>1</td>\n",
       "      <td>0</td>\n",
       "      <td>181.00</td>\n",
       "      <td>181.0</td>\n",
       "      <td>0.0</td>\n",
       "      <td>0.0</td>\n",
       "      <td>0.00</td>\n",
       "      <td>1</td>\n",
       "      <td>1</td>\n",
       "    </tr>\n",
       "    <tr>\n",
       "      <th>3</th>\n",
       "      <td>1</td>\n",
       "      <td>1</td>\n",
       "      <td>181.00</td>\n",
       "      <td>181.0</td>\n",
       "      <td>0.0</td>\n",
       "      <td>21182.0</td>\n",
       "      <td>0.00</td>\n",
       "      <td>1</td>\n",
       "      <td>1</td>\n",
       "    </tr>\n",
       "    <tr>\n",
       "      <th>15</th>\n",
       "      <td>1</td>\n",
       "      <td>1</td>\n",
       "      <td>229133.94</td>\n",
       "      <td>15325.0</td>\n",
       "      <td>0.0</td>\n",
       "      <td>5083.0</td>\n",
       "      <td>51513.44</td>\n",
       "      <td>0</td>\n",
       "      <td>1</td>\n",
       "    </tr>\n",
       "    <tr>\n",
       "      <th>19</th>\n",
       "      <td>1</td>\n",
       "      <td>0</td>\n",
       "      <td>215310.30</td>\n",
       "      <td>705.0</td>\n",
       "      <td>0.0</td>\n",
       "      <td>22425.0</td>\n",
       "      <td>0.00</td>\n",
       "      <td>0</td>\n",
       "      <td>1</td>\n",
       "    </tr>\n",
       "    <tr>\n",
       "      <th>24</th>\n",
       "      <td>1</td>\n",
       "      <td>0</td>\n",
       "      <td>311685.89</td>\n",
       "      <td>10835.0</td>\n",
       "      <td>0.0</td>\n",
       "      <td>6267.0</td>\n",
       "      <td>2719172.89</td>\n",
       "      <td>0</td>\n",
       "      <td>1</td>\n",
       "    </tr>\n",
       "  </tbody>\n",
       "</table>\n",
       "</div>"
      ],
      "text/plain": [
       "    step  type     amount  oldBalanceOrig  newBalanceOrig  oldBalanceDest  \\\n",
       "2      1     0     181.00           181.0             0.0             0.0   \n",
       "3      1     1     181.00           181.0             0.0         21182.0   \n",
       "15     1     1  229133.94         15325.0             0.0          5083.0   \n",
       "19     1     0  215310.30           705.0             0.0         22425.0   \n",
       "24     1     0  311685.89         10835.0             0.0          6267.0   \n",
       "\n",
       "    newBalanceDest  isFraud  step_bin  \n",
       "2             0.00        1         1  \n",
       "3             0.00        1         1  \n",
       "15        51513.44        0         1  \n",
       "19            0.00        0         1  \n",
       "24      2719172.89        0         1  "
      ]
     },
     "execution_count": 15,
     "metadata": {},
     "output_type": "execute_result"
    }
   ],
   "source": [
    "X = df[(df.type == 'TRANSFER') | (df.type == 'CASH_OUT')]\n",
    "\n",
    "# Eliminate columns shown to be irrelevant for analysis in the EDA\n",
    "X = X.drop(['nameOrig', 'nameDest', 'isFlaggedFraud'], axis = 1)\n",
    "\n",
    "# Binary-encoding of labelled data in 'type'\n",
    "X.loc[X.type == 'TRANSFER', 'type'] = 0\n",
    "X.loc[X.type == 'CASH_OUT', 'type'] = 1\n",
    "X.type = X.type.astype(int) # convert dtype('O') to dtype(int)\n",
    "X.head()"
   ]
  },
  {
   "cell_type": "code",
   "execution_count": 16,
   "metadata": {},
   "outputs": [
    {
     "name": "stdout",
     "output_type": "stream",
     "text": [
      "2770409\n"
     ]
    }
   ],
   "source": [
    "print(len(X))"
   ]
  },
  {
   "cell_type": "markdown",
   "metadata": {},
   "source": [
    "#### 3.1. Imputation of Latent Missing Values"
   ]
  },
  {
   "cell_type": "markdown",
   "metadata": {},
   "source": [
    "The data has several transactions with zero balances in the destination \n",
    "account both before and after a non-zero amount is transacted. The fraction\n",
    "of such transactions, where zero denotes a missing value, is much \n",
    "larger in fraudulent (50%) compared to genuine transactions (0.06%)."
   ]
  },
  {
   "cell_type": "code",
   "execution_count": 17,
   "metadata": {},
   "outputs": [
    {
     "name": "stdout",
     "output_type": "stream",
     "text": [
      "\n",
      "The fraction of fraudulent transactions with 'oldBalanceDest' = 'newBalanceDest' = 0 \n",
      "although the transacted 'amount' is non-zero is: 0.49555583\n",
      "\n",
      "The fraction of genuine transactions with 'oldBalanceDest' = newBalanceDest' = 0 \n",
      "although the transacted 'amount' is non-zero is: 0.00061762\n"
     ]
    }
   ],
   "source": [
    "Xfraud = X[X.isFraud == 1]\n",
    "XnonFraud = X[X.isFraud == 0]\n",
    "frac_fraud = len(Xfraud[(Xfraud.oldBalanceDest == 0) & \\\n",
    "(Xfraud.newBalanceDest == 0) & (Xfraud.amount)]) / (1.0 * len(Xfraud))\n",
    "\n",
    "print('\\nThe fraction of fraudulent transactions with \\'oldBalanceDest\\' = \\\n",
    "\\'newBalanceDest\\' = 0 \\nalthough the transacted \\'amount\\' is non-zero is: {}'.\\\n",
    "format(round(frac_fraud, 8)))\n",
    "\n",
    "frac_genuine = len(XnonFraud[(XnonFraud.oldBalanceDest == 0) & \\\n",
    "(XnonFraud.newBalanceDest == 0) & (XnonFraud.amount)]) / (1.0 * len(XnonFraud))\n",
    "\n",
    "print('\\nThe fraction of genuine transactions with \\'oldBalanceDest\\' = \\\n",
    "newBalanceDest\\' = 0 \\nalthough the transacted \\'amount\\' is non-zero is: {}'.\\\n",
    "format(round(frac_genuine, 8)))\n"
   ]
  },
  {
   "cell_type": "markdown",
   "metadata": {},
   "source": [
    "As we can see zero balances in destination accounts for fraud trasactions is strong indicator of fraud, hence we will not impute for them with any statistics or from any distribution, as doing so, it will mask the fraudulent behaviour in such transactions. We will assign them values of -1 which is appropriate for ML-alogrithms"
   ]
  },
  {
   "cell_type": "code",
   "execution_count": 18,
   "metadata": {},
   "outputs": [],
   "source": [
    "X.loc[(X.oldBalanceDest == 0) & (X.newBalanceDest == 0) & (X.amount != 0), \\\n",
    "      ['oldBalanceDest', 'newBalanceDest']] = - 1"
   ]
  },
  {
   "cell_type": "markdown",
   "metadata": {},
   "source": [
    "The data also has several transactions with zero balances in the originating account both before and after a non-zero amount is transacted. \n",
    "\n",
    "In this case, the fraction of such transactions is much smaller in fraudulent (0.3%) compared to genuine transactions (47%). Once again, from similar reasoning as above, instead of imputing a numerical value we replace the value of 0 with a null value and then we drop these rows null value columns can't be used with many ML algorithms."
   ]
  },
  {
   "cell_type": "code",
   "execution_count": 19,
   "metadata": {},
   "outputs": [],
   "source": [
    "X.loc[(X.oldBalanceOrig == 0) & (X.newBalanceOrig == 0) \n",
    "        & (X.amount != 0), ['oldBalanceOrig', 'newBalanceOrig']] = np.nan"
   ]
  },
  {
   "cell_type": "code",
   "execution_count": 20,
   "metadata": {},
   "outputs": [],
   "source": [
    "X = X.dropna()"
   ]
  },
  {
   "cell_type": "markdown",
   "metadata": {},
   "source": [
    "#### Checking if using step_bin will have any usefull impact"
   ]
  },
  {
   "cell_type": "code",
   "execution_count": 21,
   "metadata": {},
   "outputs": [],
   "source": [
    "fraud = X[X.isFraud==1]\n",
    "step_bins = fraud.groupby('step_bin').step.count()"
   ]
  },
  {
   "cell_type": "code",
   "execution_count": 22,
   "metadata": {},
   "outputs": [
    {
     "data": {
      "image/png": "[encoded data removed]",
      "text/plain": [
       "<Figure size 432x288 with 1 Axes>"
      ]
     },
     "metadata": {
      "needs_background": "light"
     },
     "output_type": "display_data"
    }
   ],
   "source": [
    "plt.figure()\n",
    "plt.title(\"Fraudulent Transactions over hours of the day\")\n",
    "plt.plot(step_bins)\n",
    "plt.ylim(0, 800)\n",
    "plt.xlabel(\"Time of the day (0-23)\")\n",
    "plt.ylabel(\"Number of Frauds\")\n",
    "plt.show()"
   ]
  },
  {
   "cell_type": "markdown",
   "metadata": {},
   "source": [
    "Since all the 24 bins corresponding to the 24 hours seem to have almost the same number of entries, it seems unlinkely that step_bin will be useful in detecting frauds. Hence, we drop this column"
   ]
  },
  {
   "cell_type": "code",
   "execution_count": 23,
   "metadata": {},
   "outputs": [],
   "source": [
    "X.drop(['step', 'step_bin'], axis=1, inplace=True)"
   ]
  },
  {
   "cell_type": "markdown",
   "metadata": {},
   "source": [
    "### Final X before feature engineering"
   ]
  },
  {
   "cell_type": "code",
   "execution_count": 24,
   "metadata": {},
   "outputs": [
    {
     "data": {
      "text/html": [
       "<div>\n",
       "<style scoped>\n",
       "    .dataframe tbody tr th:only-of-type {\n",
       "        vertical-align: middle;\n",
       "    }\n",
       "\n",
       "    .dataframe tbody tr th {\n",
       "        vertical-align: top;\n",
       "    }\n",
       "\n",
       "    .dataframe thead th {\n",
       "        text-align: right;\n",
       "    }\n",
       "</style>\n",
       "<table border=\"1\" class=\"dataframe\">\n",
       "  <thead>\n",
       "    <tr style=\"text-align: right;\">\n",
       "      <th></th>\n",
       "      <th>type</th>\n",
       "      <th>amount</th>\n",
       "      <th>oldBalanceOrig</th>\n",
       "      <th>newBalanceOrig</th>\n",
       "      <th>oldBalanceDest</th>\n",
       "      <th>newBalanceDest</th>\n",
       "      <th>isFraud</th>\n",
       "    </tr>\n",
       "  </thead>\n",
       "  <tbody>\n",
       "    <tr>\n",
       "      <th>2</th>\n",
       "      <td>0</td>\n",
       "      <td>181.00</td>\n",
       "      <td>181.0</td>\n",
       "      <td>0.0</td>\n",
       "      <td>-1.0</td>\n",
       "      <td>-1.00</td>\n",
       "      <td>1</td>\n",
       "    </tr>\n",
       "    <tr>\n",
       "      <th>3</th>\n",
       "      <td>1</td>\n",
       "      <td>181.00</td>\n",
       "      <td>181.0</td>\n",
       "      <td>0.0</td>\n",
       "      <td>21182.0</td>\n",
       "      <td>0.00</td>\n",
       "      <td>1</td>\n",
       "    </tr>\n",
       "    <tr>\n",
       "      <th>15</th>\n",
       "      <td>1</td>\n",
       "      <td>229133.94</td>\n",
       "      <td>15325.0</td>\n",
       "      <td>0.0</td>\n",
       "      <td>5083.0</td>\n",
       "      <td>51513.44</td>\n",
       "      <td>0</td>\n",
       "    </tr>\n",
       "    <tr>\n",
       "      <th>19</th>\n",
       "      <td>0</td>\n",
       "      <td>215310.30</td>\n",
       "      <td>705.0</td>\n",
       "      <td>0.0</td>\n",
       "      <td>22425.0</td>\n",
       "      <td>0.00</td>\n",
       "      <td>0</td>\n",
       "    </tr>\n",
       "    <tr>\n",
       "      <th>24</th>\n",
       "      <td>0</td>\n",
       "      <td>311685.89</td>\n",
       "      <td>10835.0</td>\n",
       "      <td>0.0</td>\n",
       "      <td>6267.0</td>\n",
       "      <td>2719172.89</td>\n",
       "      <td>0</td>\n",
       "    </tr>\n",
       "  </tbody>\n",
       "</table>\n",
       "</div>"
      ],
      "text/plain": [
       "    type     amount  oldBalanceOrig  newBalanceOrig  oldBalanceDest  \\\n",
       "2      0     181.00           181.0             0.0            -1.0   \n",
       "3      1     181.00           181.0             0.0         21182.0   \n",
       "15     1  229133.94         15325.0             0.0          5083.0   \n",
       "19     0  215310.30           705.0             0.0         22425.0   \n",
       "24     0  311685.89         10835.0             0.0          6267.0   \n",
       "\n",
       "    newBalanceDest  isFraud  \n",
       "2            -1.00        1  \n",
       "3             0.00        1  \n",
       "15        51513.44        0  \n",
       "19            0.00        0  \n",
       "24      2719172.89        0  "
      ]
     },
     "execution_count": 24,
     "metadata": {},
     "output_type": "execute_result"
    }
   ],
   "source": [
    "X.head()"
   ]
  },
  {
   "cell_type": "markdown",
   "metadata": {},
   "source": [
    "### 4. Feature Engineering"
   ]
  },
  {
   "cell_type": "markdown",
   "metadata": {},
   "source": [
    "#### Checking if the accounts are balanced in origin and destination after the transaction can possibly be a good indicator of fraud."
   ]
  },
  {
   "cell_type": "code",
   "execution_count": 25,
   "metadata": {},
   "outputs": [],
   "source": [
    "X['errorOrig'] = X['newBalanceOrig'] + X['amount'] - X['oldBalanceOrig']\n",
    "X['errorDest'] = X['oldBalanceDest'] + X['amount'] - X['newBalanceDest']"
   ]
  },
  {
   "cell_type": "code",
   "execution_count": 26,
   "metadata": {},
   "outputs": [
    {
     "name": "stdout",
     "output_type": "stream",
     "text": [
      "Account not balanced in Orig: 0.8289980524584377\n",
      "Account not balanced in Dest: 0.37119923274934447\n"
     ]
    }
   ],
   "source": [
    "print(\"Account not balanced in Orig:\", len(X[X['errorOrig'] != 0])/ len(X))\n",
    "print(\"Account not balanced in Dest:\", len(X[X['errorDest'] != 0])/ len(X))"
   ]
  },
  {
   "cell_type": "markdown",
   "metadata": {},
   "source": [
    "Since a significant proportion of accounts are not balanced, it makes sense to use them as new features"
   ]
  },
  {
   "cell_type": "code",
   "execution_count": 27,
   "metadata": {},
   "outputs": [
    {
     "data": {
      "image/png": "[encoded data removed]",
      "text/plain": [
       "<Figure size 432x288 with 2 Axes>"
      ]
     },
     "metadata": {
      "needs_background": "light"
     },
     "output_type": "display_data"
    }
   ],
   "source": [
    "plt.figure()\n",
    "plt.title(\"Correlation among different features before modelling\")\n",
    "corelation = round(X.corr(), 2)\n",
    "sns.heatmap(corelation, center=0, linewidths=.1, linecolor='white', cmap=\"YlGnBu\", annot=True)\n",
    "plt.show()"
   ]
  },
  {
   "cell_type": "markdown",
   "metadata": {},
   "source": [
    "### 5. Model Selection"
   ]
  },
  {
   "cell_type": "markdown",
   "metadata": {},
   "source": [
    "#### Preparing the dataset"
   ]
  },
  {
   "cell_type": "code",
   "execution_count": 28,
   "metadata": {},
   "outputs": [],
   "source": [
    "y = X['isFraud']\n",
    "X.drop(['isFraud'], axis=1, inplace=True)"
   ]
  },
  {
   "cell_type": "code",
   "execution_count": 29,
   "metadata": {},
   "outputs": [
    {
     "name": "stdout",
     "output_type": "stream",
     "text": [
      "Size of dataset:1461843\n"
     ]
    }
   ],
   "source": [
    "print(\"Size of dataset:{}\".format(len(X)))"
   ]
  },
  {
   "cell_type": "markdown",
   "metadata": {},
   "source": [
    "#### Train, Test Split and Normalizing the dataset"
   ]
  },
  {
   "cell_type": "code",
   "execution_count": 30,
   "metadata": {},
   "outputs": [
    {
     "name": "stderr",
     "output_type": "stream",
     "text": [
      "/home/anurag/.virtualenvs/ece225/lib/python3.6/site-packages/sklearn/preprocessing/data.py:625: DataConversionWarning: Data with input dtype int64, float64 were all converted to float64 by StandardScaler.\n",
      "  return self.partial_fit(X, y)\n",
      "/home/anurag/.virtualenvs/ece225/lib/python3.6/site-packages/ipykernel_launcher.py:3: DataConversionWarning: Data with input dtype int64, float64 were all converted to float64 by StandardScaler.\n",
      "  This is separate from the ipykernel package so we can avoid doing imports until\n",
      "/home/anurag/.virtualenvs/ece225/lib/python3.6/site-packages/ipykernel_launcher.py:4: DataConversionWarning: Data with input dtype int64, float64 were all converted to float64 by StandardScaler.\n",
      "  after removing the cwd from sys.path.\n"
     ]
    }
   ],
   "source": [
    "X_train, X_test, y_train, y_test = train_test_split(X, y, test_size=0.2, random_state=0)\n",
    "scaler = StandardScaler().fit(X_train)\n",
    "X_train_norm = scaler.transform(X_train)\n",
    "X_test_norm = scaler.transform(X_test)"
   ]
  },
  {
   "cell_type": "code",
   "execution_count": 31,
   "metadata": {},
   "outputs": [],
   "source": [
    "def calculate_metrics(clf, Xtest, Ytest):\n",
    "    y_true, y_pred = Ytest, clf.predict(Xtest)\n",
    "    print(classification_report(y_true, y_pred))\n",
    "\n",
    "    acc = clf.score(Xtest, Ytest)\n",
    "    avg_prec_score = average_precision_score(y_true, y_pred)\n",
    "\n",
    "    print(\"Accuracy:{}, Average Precision Score:{}\".format(acc, avg_prec_score))\n",
    "    return acc, avg_prec_score"
   ]
  },
  {
   "cell_type": "markdown",
   "metadata": {},
   "source": [
    "#### Using a dummy classifier to set a baseline\n",
    "We use aaccuracy and average precision rate as performance metrics. Accuracy is not reliable in this case as we have a very skewed data set. So alternate metrics like AUC curve, average precision rate, etc are used."
   ]
  },
  {
   "cell_type": "code",
   "execution_count": 32,
   "metadata": {},
   "outputs": [
    {
     "name": "stdout",
     "output_type": "stream",
     "text": [
      "              precision    recall  f1-score   support\n",
      "\n",
      "           0       0.99      0.99      0.99    290729\n",
      "           1       0.01      0.01      0.01      1640\n",
      "\n",
      "   micro avg       0.99      0.99      0.99    292369\n",
      "   macro avg       0.50      0.50      0.50    292369\n",
      "weighted avg       0.99      0.99      0.99    292369\n",
      "\n",
      "Accuracy:0.9888975917419426, Average Precision Score:0.0056155387818106\n"
     ]
    }
   ],
   "source": [
    "dummy_clf = DummyClassifier().fit(X_train_norm, y_train)\n",
    "dc_acc, dc_aps = calculate_metrics(dummy_clf, X_test_norm, y_test)"
   ]
  },
  {
   "cell_type": "markdown",
   "metadata": {},
   "source": [
    "Clearly, even a dummy classifier can have a very high accuracy but neglegible average precision score."
   ]
  },
  {
   "cell_type": "markdown",
   "metadata": {},
   "source": [
    "To begin with, we start with a very basic classifier\n",
    "\n",
    "### Gaussian Naive Bayes Classifier"
   ]
  },
  {
   "cell_type": "code",
   "execution_count": 33,
   "metadata": {},
   "outputs": [
    {
     "name": "stdout",
     "output_type": "stream",
     "text": [
      "              precision    recall  f1-score   support\n",
      "\n",
      "           0       1.00      0.99      0.99    290729\n",
      "           1       0.16      0.37      0.22      1640\n",
      "\n",
      "   micro avg       0.99      0.99      0.99    292369\n",
      "   macro avg       0.58      0.68      0.61    292369\n",
      "weighted avg       0.99      0.99      0.99    292369\n",
      "\n",
      "Accuracy:0.9853780667581036, Average Precision Score:0.06095391394894097\n"
     ]
    }
   ],
   "source": [
    "nb = GaussianNB().fit(X_train_norm, y_train)\n",
    "nb_acc, nb_aps = calculate_metrics(nb, X_test_norm, y_test)"
   ]
  },
  {
   "cell_type": "markdown",
   "metadata": {},
   "source": [
    "With Naive Bayes' we get a slight improvement in average precision, however, accuracy goes down. Clearly Gaussian assumption for the data is not valid. "
   ]
  },
  {
   "cell_type": "markdown",
   "metadata": {},
   "source": [
    "### Logistic Regression Classifier"
   ]
  },
  {
   "cell_type": "code",
   "execution_count": 34,
   "metadata": {},
   "outputs": [
    {
     "name": "stdout",
     "output_type": "stream",
     "text": [
      "              precision    recall  f1-score   support\n",
      "\n",
      "           0       1.00      1.00      1.00    290729\n",
      "           1       0.88      0.47      0.61      1640\n",
      "\n",
      "   micro avg       1.00      1.00      1.00    292369\n",
      "   macro avg       0.94      0.74      0.81    292369\n",
      "weighted avg       1.00      1.00      1.00    292369\n",
      "\n",
      "Accuracy:0.9966822747965756, Average Precision Score:0.41901012412035227\n"
     ]
    }
   ],
   "source": [
    "lr = LogisticRegressionCV(cv=5, random_state=0).fit(X_train_norm, y_train)\n",
    "lr_acc, lr_aps = calculate_metrics(lr, X_test_norm, y_test)"
   ]
  },
  {
   "cell_type": "markdown",
   "metadata": {},
   "source": [
    "Logistic Regression is quite good for binary classification. In this case, it gives both better accuracy and average precision than both Dummy and Naive Bayes' clasifier"
   ]
  },
  {
   "cell_type": "markdown",
   "metadata": {},
   "source": [
    "### XG Boost"
   ]
  },
  {
   "cell_type": "code",
   "execution_count": 35,
   "metadata": {},
   "outputs": [
    {
     "name": "stdout",
     "output_type": "stream",
     "text": [
      "              precision    recall  f1-score   support\n",
      "\n",
      "           0       1.00      1.00      1.00    290729\n",
      "           1       1.00      1.00      1.00      1640\n",
      "\n",
      "   micro avg       1.00      1.00      1.00    292369\n",
      "   macro avg       1.00      1.00      1.00    292369\n",
      "weighted avg       1.00      1.00      1.00    292369\n",
      "\n",
      "Accuracy:0.9999931593294775, Average Precision Score:0.9987842799426379\n"
     ]
    }
   ],
   "source": [
    "xgb = XGBClassifier().fit(X_train, y_train)\n",
    "xgb_acc, xgb_aps = calculate_metrics(xgb, X_test, y_test)"
   ]
  },
  {
   "cell_type": "markdown",
   "metadata": {},
   "source": [
    "### Random Forest Classifier"
   ]
  },
  {
   "cell_type": "code",
   "execution_count": 36,
   "metadata": {},
   "outputs": [
    {
     "name": "stdout",
     "output_type": "stream",
     "text": [
      "              precision    recall  f1-score   support\n",
      "\n",
      "           0       1.00      1.00      1.00    290729\n",
      "           1       1.00      1.00      1.00      1640\n",
      "\n",
      "   micro avg       1.00      1.00      1.00    292369\n",
      "   macro avg       1.00      1.00      1.00    292369\n",
      "weighted avg       1.00      1.00      1.00    292369\n",
      "\n",
      "Accuracy:0.9999965796647388, Average Precision Score:0.9993936642377003\n"
     ]
    }
   ],
   "source": [
    "rf = RandomForestClassifier(n_estimators=10).fit(X_train, y_train)\n",
    "rf_acc, rf_aps = calculate_metrics(rf, X_test, y_test)"
   ]
  },
  {
   "cell_type": "markdown",
   "metadata": {},
   "source": [
    "### LDA"
   ]
  },
  {
   "cell_type": "code",
   "execution_count": 37,
   "metadata": {},
   "outputs": [
    {
     "name": "stderr",
     "output_type": "stream",
     "text": [
      "/home/anurag/.virtualenvs/ece225/lib/python3.6/site-packages/sklearn/discriminant_analysis.py:388: UserWarning: Variables are collinear.\n",
      "  warnings.warn(\"Variables are collinear.\")\n"
     ]
    },
    {
     "name": "stdout",
     "output_type": "stream",
     "text": [
      "              precision    recall  f1-score   support\n",
      "\n",
      "           0       1.00      1.00      1.00    290729\n",
      "           1       0.87      0.38      0.53      1640\n",
      "\n",
      "   micro avg       1.00      1.00      1.00    292369\n",
      "   macro avg       0.93      0.69      0.76    292369\n",
      "weighted avg       1.00      1.00      1.00    292369\n",
      "\n",
      "Accuracy:0.9961965871894763, Average Precision Score:0.33282278832522094\n"
     ]
    }
   ],
   "source": [
    "lda = LinearDiscriminantAnalysis().fit(X_train_norm, y_train)\n",
    "lda_acc, lda_aps = calculate_metrics(lda, X_test_norm, y_test)"
   ]
  },
  {
   "cell_type": "code",
   "execution_count": 39,
   "metadata": {},
   "outputs": [
    {
     "data": {
      "image/png": "[encoded data removed]",
      "text/plain": [
       "<Figure size 640x480 with 1 Axes>"
      ]
     },
     "metadata": {},
     "output_type": "display_data"
    }
   ],
   "source": [
    "plt.rcdefaults()\n",
    "fig, ax = plt.subplots()\n",
    "\n",
    "# Classifier names\n",
    "clas = ('Dummy', 'Gaussian NB', 'LDA', 'Logistic Regression', 'XGBoost', 'Random Forest')\n",
    "performance = [dc_aps, nb_aps, lda_aps, lr_aps, xgb_aps, rf_aps]\n",
    "y_pos = np.arange(len(clas))\n",
    "\n",
    "\n",
    "ax.barh(y_pos, performance, align='center',\n",
    "        color='green')\n",
    "ax.set_yticks(y_pos)\n",
    "ax.set_yticklabels(clas)\n",
    "ax.invert_yaxis() \n",
    "ax.set_xlabel('Average Precision Score')\n",
    "ax.set_title('Average precision score for all classifiers')\n",
    "\n",
    "plt.show()"
   ]
  },
  {
   "cell_type": "code",
   "execution_count": null,
   "metadata": {},
   "outputs": [],
   "source": []
  }
 ],
 "metadata": {
  "kernelspec": {
   "display_name": "Python 3",
   "language": "python",
   "name": "python3"
  },
  "language_info": {
   "codemirror_mode": {
    "name": "ipython",
    "version": 3
   },
   "file_extension": ".py",
   "mimetype": "text/x-python",
   "name": "python",
   "nbconvert_exporter": "python",
   "pygments_lexer": "ipython3",
   "version": "3.6.7"
  }
 },
 "nbformat": 4,
 "nbformat_minor": 2
}
